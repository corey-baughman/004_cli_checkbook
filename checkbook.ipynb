{
 "cells": [
  {
   "cell_type": "code",
   "execution_count": 2,
   "id": "2af48681",
   "metadata": {},
   "outputs": [
    {
     "name": "stdout",
     "output_type": "stream",
     "text": [
      "Transaction data file found\n",
      "\n",
      "\n",
      "\n",
      "~~~ Welcome to your terminal checkbook! ~~~\n",
      "\n",
      "\n",
      "\n",
      "What would you like to do?\n",
      "\n",
      "1) view current balance\n",
      "2) record a debit (withdraw)\n",
      "3) record a credit\n",
      "4) exit\n",
      "\n",
      "Your choice? 5\n",
      "Invalid input.\n",
      "Please type the number of one of the menu items.\n",
      "\n",
      "Your choice? 6\n",
      "Invalid input.\n",
      "Please type the number of one of the menu items.\n",
      "\n",
      "Your choice? y\n",
      "Invalid input.\n",
      "Please type the number of one of the menu items.\n",
      "\n",
      "Your choice? 1\n",
      "current balance feature coming soon\n"
     ]
    }
   ],
   "source": [
    "# import os module to check path against system\n",
    "import os\n",
    "\n",
    "# check for the file that holds or will hold transaction data\n",
    "\n",
    "if os.path.exists('/Users/donq/codeup-data-science/cli_checkbook/transaction_data.txt'):\n",
    "    print('Transaction data file found')\n",
    "    with open('transaction_data.txt') as td:\n",
    "        lines = td.readlines()\n",
    "\n",
    "# if there is no transaction data file found, a new one is created       \n",
    "\n",
    "else:\n",
    "    with open('transaction_data.txt', 'w') as td:\n",
    "        td.write('brand new file!')\n",
    "    print('Transaction data file NOT found. New file created.')\n",
    "    \n",
    "    \n",
    "# print a welcome message to user\n",
    "\n",
    "print('\\n\\n\\n~~~ Welcome to your terminal checkbook! ~~~\\n\\n\\n')\n",
    "\n",
    "# print the basic menu question for user\n",
    "\n",
    "print(\"What would you like to do?\\n\")\n",
    "\n",
    "# print menu\n",
    "\n",
    "print(\"1) view current balance\\n2) record a debit (withdraw)\\n3) record a credit\\n4) exit\\n\")\n",
    "\n",
    "# user input prompt as while loop\n",
    "\n",
    "while True:\n",
    "    \n",
    "    user_input = input('Your choice? ')\n",
    "\n",
    "    if user_input.startswith('1'):\n",
    "        print('current balance feature coming soon')\n",
    "        break\n",
    "    elif user_input.startswith('2'):\n",
    "        print('add a debit (withdrawal) coming soon')\n",
    "        break\n",
    "    elif user_input.startswith('3'):\n",
    "        print('add a credit (deposit) coming soon')\n",
    "        break\n",
    "    elif user_input.startswith('4'):\n",
    "        print('Thanks, have a great day!')\n",
    "    ####     exit()    \n",
    "    else:\n",
    "        print('Invalid input.\\nPlease type the number of one of the menu items.\\n')\n",
    "\n"
   ]
  },
  {
   "cell_type": "code",
   "execution_count": 8,
   "id": "621b5812",
   "metadata": {},
   "outputs": [
    {
     "data": {
      "text/plain": [
       "'/Users/donq/codeup-data-science/python-exercises'"
      ]
     },
     "execution_count": 8,
     "metadata": {},
     "output_type": "execute_result"
    }
   ],
   "source": []
  }
 ],
 "metadata": {
  "kernelspec": {
   "display_name": "Python 3 (ipykernel)",
   "language": "python",
   "name": "python3"
  },
  "language_info": {
   "codemirror_mode": {
    "name": "ipython",
    "version": 3
   },
   "file_extension": ".py",
   "mimetype": "text/x-python",
   "name": "python",
   "nbconvert_exporter": "python",
   "pygments_lexer": "ipython3",
   "version": "3.9.13"
  }
 },
 "nbformat": 4,
 "nbformat_minor": 5
}
